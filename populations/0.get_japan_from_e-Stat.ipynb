{
 "cells": [
  {
   "cell_type": "markdown",
   "metadata": {
    "id": "j8rQdI0Goipq"
   },
   "source": [
    "# はじめに\n",
    "+ [e-Stat](https://www.e-stat.go.jp)のIDを入れ、「ランタイム」＞「すべてのセルを実行」により、実行できるようになっています。\n",
    "  + <a href=\"https://colab.research.google.com/drive/1aCvMSDlnJ1k29duweuiaiFOXe_-WQPt3\">こちらからGoogleColab上で試すことが可能</a>です（実行にはGoogleアカウントが必要）。\n",
    "+ 1.main_program.ipynbで、全国の人口データを使うためにご利用ください。\n",
    "  + このプログラムはcsvを吐き出すだけですが、main_program.ipynbと組み合わせれば、グラフ出力もできます。ただし、教材とするにはestatのidが必要です。"
   ]
  },
  {
   "cell_type": "markdown",
   "metadata": {
    "id": "_Y_t23ZcNQFe"
   },
   "source": [
    "# eStatを簡単に読み込めるようにしたプラグインをinstall"
   ]
  },
  {
   "cell_type": "code",
   "execution_count": null,
   "metadata": {
    "id": "mPfZpMDONWh5"
   },
   "outputs": [],
   "source": [
    "pip install pandas-estat"
   ]
  },
  {
   "cell_type": "code",
   "execution_count": null,
   "metadata": {
    "id": "C1aHQ8SmNEa9"
   },
   "outputs": [],
   "source": [
    "# 自分のidを入れて、使えるようにする。\n",
    "import pandas as pd\n",
    "from pandas_estat import set_appid\n",
    "from pandas_estat import read_statsdata\n",
    "set_appid(\"自分のid\")##　自分のid　をe-Statの自分のアカウントのappidに置き換える。"
   ]
  },
  {
   "cell_type": "markdown",
   "metadata": {
    "id": "UFzSasyzNh7J"
   },
   "source": [
    "最近10年分の10/1現在の人口を読み込む（eStatが更新によって変更が必要の可能性があります）"
   ]
  },
  {
   "cell_type": "code",
   "execution_count": null,
   "metadata": {
    "id": "hg6Q-YSLNhKm"
   },
   "outputs": [],
   "source": [
    "populations = {\n",
    "  2020: read_statsdata(\"0003448228\"),##2020に、2020-がある\n",
    "  2015: read_statsdata(\"0003459018\"),##2015に、2015-2019まである\n",
    "  2014: read_statsdata(\"0003104181\"),##2014までは、各年のデータ\n",
    "  2013: read_statsdata(\"0003094384\"),\n",
    "  2012: read_statsdata(\"0003080162\")\n",
    "}"
   ]
  },
  {
   "cell_type": "code",
   "execution_count": null,
   "metadata": {
    "id": "vgRBExWGN9g4"
   },
   "outputs": [],
   "source": [
    "# 2012/10のを表示してみる\n",
    "populations[2012]"
   ]
  },
  {
   "cell_type": "code",
   "execution_count": null,
   "metadata": {
    "id": "His1WAJ5OHpU"
   },
   "outputs": [],
   "source": [
    "# 2012/10のうち18歳を表示してみる\n",
    "popu=populations[2012]\n",
    "popu[(popu.全国==\"全国\")&\n",
    "     (popu.年齢各歳==\"18歳\")&\n",
    "     (popu.人口==\"総人口\")]"
   ]
  },
  {
   "cell_type": "code",
   "execution_count": null,
   "metadata": {
    "id": "fDw-C8xUOolS"
   },
   "outputs": [],
   "source": [
    "populist, over100, sumlist=[],[],[]\n",
    "for year0 in populations:\n",
    "    popu=populations[year0]\n",
    "    suwr=set(popu[\"時間軸（年月日現在）\"])\n",
    "    suwr0 = [asd[:4] for asd in suwr]\n",
    "    for year in suwr0:\n",
    "        print(year)\n",
    "#        display(popu)\n",
    "        for sei in [\"男\", \"女\", \"男女計\"]:\n",
    "            for i in range(100):\n",
    "                li = popu[(popu.全国==\"全国\")&\n",
    "                          (popu.年齢各歳==str(i)+\"歳\")&\n",
    "                          (popu.人口==\"総人口\")&\n",
    "                          (popu[\"時間軸（年月日現在）\"]==str(year)+\"年10月1日現在\")&\n",
    "                          (popu[\"男女別・性比\"]==sei)].index\n",
    "                populist.append(\n",
    "                    {\"year\": year, \"age\": i, \"sex\": sei, \"value\": popu.at[list(li)[0], \"value\"]})\n",
    "                ##100歳以上も保存\n",
    "                li = popu[(popu.全国==\"全国\")&\n",
    "                        (popu.年齢各歳==\"100歳以上\")&\n",
    "                        (popu.人口==\"総人口\")&\n",
    "                        (popu[\"時間軸（年月日現在）\"]==str(year)+\"年10月1日現在\")&\n",
    "                        (popu[\"男女別・性比\"]==sei)].index\n",
    "                over100.append(\n",
    "                  {\"year\": year, \"sex\": sei, \"value\": popu.at[list(li)[0], \"value\"]})\n",
    "                ##100歳以上も保存\n",
    "                li = popu[(popu.全国==\"全国\")&\n",
    "                        (popu.年齢各歳==\"総数\")&\n",
    "                        (popu.人口==\"総人口\")&\n",
    "                        (popu[\"時間軸（年月日現在）\"]==str(year)+\"年10月1日現在\")&\n",
    "                        (popu[\"男女別・性比\"]==sei)].index\n",
    "                sumlist.append(\n",
    "                  {\"year\": year, \"sex\": sei, \"value\": popu.at[list(li)[0], \"value\"]})"
   ]
  },
  {
   "cell_type": "markdown",
   "metadata": {
    "id": "cPVqQQgFdc6X"
   },
   "source": [
    "## データの書き出し"
   ]
  },
  {
   "cell_type": "code",
   "execution_count": null,
   "metadata": {
    "id": "q0l7ILDGEduD"
   },
   "outputs": [],
   "source": [
    "import pandas as pd\n",
    "data = pd.DataFrame(populist).astype({\"year\":int, \"age\":int, \"value\":int})\n",
    "data.to_csv(\"japan_pop.csv\", index=False)\n",
    "##GoogleColabの場合は、左メニューの「content」フォルダ内に「japan_pop.csv」が作られていると思います。\n",
    "##もし、見つからない場合は「%pwd」をセルで実行し、現在のフォルダがどこかを確認し、探してください。"
   ]
  },
  {
   "cell_type": "code",
   "execution_count": null,
   "metadata": {
    "id": "k25EAP2BfkTg"
   },
   "outputs": [],
   "source": []
  }
 ],
 "metadata": {
  "colab": {
   "provenance": [
    {
     "file_id": "16sAG23JOlOC0qRDNhz2rYmnNxf8lku5t",
     "timestamp": 1688451817437
    }
   ]
  },
  "kernelspec": {
   "display_name": "Python 3 (ipykernel)",
   "language": "python",
   "name": "python3"
  },
  "language_info": {
   "codemirror_mode": {
    "name": "ipython",
    "version": 3
   },
   "file_extension": ".py",
   "mimetype": "text/x-python",
   "name": "python",
   "nbconvert_exporter": "python",
   "pygments_lexer": "ipython3",
   "version": "3.9.16"
  }
 },
 "nbformat": 4,
 "nbformat_minor": 1
}
