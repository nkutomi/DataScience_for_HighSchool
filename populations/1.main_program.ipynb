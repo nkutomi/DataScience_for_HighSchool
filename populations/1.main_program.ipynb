{
 "cells": [
  {
   "cell_type": "markdown",
   "metadata": {
    "id": "H2ZPhUG6bMcd"
   },
   "source": [
    "## はじめに\n",
    "+ 「ランタイム」＞「すべてのセルを実行」により、ダミーデータで表示されるようになっています。\n",
    "  + <a href=\"https://colab.research.google.com/drive/1JL_tI76mkgF4mloVYSYxDwzQRtAPs2IN\">こちらからGoogleColab上で試すことが可能</a>です（実行にはGoogleアカウントが必要）。\n",
    "+ このファイルは、GoogleColabでの動作を想定し、インデント=半角空白2文字にしてます。\n",
    "+ 配布前に、このMarkdownセルは削除してください。\n",
    "\n",
    "# このファイルを配布前にすべきこと\n",
    "+ 参加者がGoogleアカウントを使えるようにしておく\n",
    "+ 全国の人口データ、自分の街の人口データを、ダミーデータ1や2の形式で作成し、URLを取得。アクセス権限を参加者のGoogleドライブから開けるように変更。\n",
    "  + データの形式はダミーデータ<a href=\"https://docs.google.com/spreadsheets/d/1j5qLDVR_FhHyT7mouvxngsVQbMjVtl6LGcwoj44futI\">1</a>や<a href=\"https://docs.google.com/spreadsheets/d/10raUmLtk93kUGyD9fUPJpZVi9va-13jtr2Y5u7XP4ZI\">2</a>をご覧ください。\n",
    "  + 0.get_japan_from_estat.ipynbによって出力されるcsvにより、全国のデータがcsvで出力されます。Googleスプレッドシート形式に変換\n",
    "    + 0.get_japan_from_estat.ipynb自体も教材にしてもいいですが、estatのidが必要です（ユーザー登録など）。\n",
    "  + csvのまま使う、Excelにしてから使う、などをしたい場合は、このプログラムの読み込み部分を変えてください。\n",
    "+ 以下をカスタマイズ\n",
    "  + このファイルの「ある街」を、使用する街の名前に変更する\n",
    "  + 人口データが対応する年に合わせて、「2012-2022」を変更（2箇所）\n",
    "  + 「そのまま」指定時の出力単位やデータを変更（現状は、「ある街」の総人口が数万-十数万人として「全国：千人、ある街：人」に設定）\n",
    "  + 「全国人口データのGoogleスプレッドシートのURL」「ある街の人口データのGoogleスプレッドシートのURL」の双方に、上で取得したURLを貼る。\n",
    "+ 「編集」＞「出力をすべて消去」によって出力を消し、アクセス権限を参加者のGoogleドライブから開けるようにする（閲覧のみにする）"
   ]
  },
  {
   "cell_type": "markdown",
   "metadata": {
    "id": "wklFNQwxca-E"
   },
   "source": [
    "# 最初に「ファイル」＞「コピーをドライブに保存」を実行しましょう（そうしないと、今日の作業内容が保存されません）"
   ]
  },
  {
   "cell_type": "code",
   "execution_count": null,
   "metadata": {
    "id": "S7aeZpiuR-4s"
   },
   "outputs": [],
   "source": [
    "pip install japanize_matplotlib"
   ]
  },
  {
   "cell_type": "code",
   "execution_count": null,
   "metadata": {
    "id": "OE2-K0I9Q-Na"
   },
   "outputs": [],
   "source": [
    "# ここを実行すると、Googleドライブにアクセスしていいかの許可を求められます。\n",
    "# 許可して先へ進めてください。\n",
    "import pandas as pd\n",
    "%matplotlib inline\n",
    "import matplotlib.pyplot as plt\n",
    "import japanize_matplotlib\n",
    "\n",
    "from google.colab import auth\n",
    "auth.authenticate_user()\n",
    "import gspread\n",
    "from google.auth import default\n",
    "creds, _ = default()\n",
    "gc = gspread.authorize(creds)"
   ]
  },
  {
   "cell_type": "markdown",
   "metadata": {
    "id": "8B4sn4w-DlgV"
   },
   "source": [
    "# 人口データ\n",
    "e-Statから読み込んだデータ（全国）と、ある街のデータを、Googleドライブから読み込む"
   ]
  },
  {
   "cell_type": "code",
   "execution_count": null,
   "metadata": {
    "id": "b3kGz89uDhue"
   },
   "outputs": [],
   "source": [
    "pop={}\n",
    "##全国のデータに変更（現在はダミー1）\n",
    "url=\"https://docs.google.com/spreadsheets/d/1j5qLDVR_FhHyT7mouvxngsVQbMjVtl6LGcwoj44futI\"\n",
    "xlsx = gc.open_by_url(url)\n",
    "for f in xlsx.worksheets(): pop[\"全国\"] = pd.DataFrame(xlsx.worksheet(f.title).get_all_records())\n",
    "\n",
    "##ある街のデータに変更（現在はダミー2）\n",
    "url=\"https://docs.google.com/spreadsheets/d/10raUmLtk93kUGyD9fUPJpZVi9va-13jtr2Y5u7XP4ZI\"\n",
    "xlsx = gc.open_by_url(url)\n",
    "for f in xlsx.worksheets(): pop[\"ある街\"] = pd.DataFrame(xlsx.worksheet(f.title).get_all_records())"
   ]
  },
  {
   "cell_type": "code",
   "execution_count": null,
   "metadata": {
    "id": "G9IN5QFfoZrH"
   },
   "outputs": [],
   "source": [
    "pop[\"全国\"]"
   ]
  },
  {
   "cell_type": "code",
   "execution_count": null,
   "metadata": {
    "id": "rVjC0ofvoel9"
   },
   "outputs": [],
   "source": [
    "pop[\"ある街\"]"
   ]
  },
  {
   "cell_type": "code",
   "execution_count": null,
   "metadata": {
    "id": "c0J5LxiwoRHp"
   },
   "outputs": [],
   "source": [
    "# データの一部を取り出す\n",
    "years = [2019,2020,2022]#2012-2022まで指定可能\n",
    "ages = [5,12]#0-99まで指定可能\n",
    "danjo = [\"男\"]##男，女，男女計，が指定可能\n",
    "\n",
    "print(\"全国（単位：千人）\")\n",
    "area_=\"全国\"\n",
    "display(pop[area_][pop[area_].year.isin(years) &\n",
    "                   pop[area_].age.isin(ages) &\n",
    "                   pop[area_].sex.isin(danjo)])\n",
    "print(\"ある街（単位：人）\")\n",
    "area_=\"ある街\"\n",
    "display(pop[area_][pop[area_].year.isin(years) &\n",
    "                   pop[area_].age.isin(ages) &\n",
    "                   pop[area_].sex.isin(danjo)])"
   ]
  },
  {
   "cell_type": "markdown",
   "metadata": {
    "id": "-gsFncTDgFJp"
   },
   "source": [
    "# グラフ表示"
   ]
  },
  {
   "cell_type": "code",
   "execution_count": null,
   "metadata": {
    "id": "etzkx8GpzVf3"
   },
   "outputs": [],
   "source": [
    "# グラフを表示する関数\n",
    "def view_graph(danjo, area, base, years):\n",
    "  plt.figure(figsize=(10,5))###画像の大きさ（縦横）を決める\n",
    "  lw=2##線の太さ\n",
    "\n",
    "#縮尺を，今回表示する最初の年の値から，決定する\n",
    "  scale0 = {}\n",
    "  captions = []\n",
    "  for danjo_ in danjo:\n",
    "    for area_ in area:\n",
    "      if base==\"そのまま\":\n",
    "        scale0[area_+danjo_], captions = 100, [\"全国：千人、ある街：人\"]####人口規模によって調整\n",
    "      else:\n",
    "        if area_ in pop:\n",
    "          p = pop[area_][(pop[area_].year==min(years)) & (pop[area_].sex==danjo_)]\n",
    "        else:\n",
    "          print('「全国」か「ある街」だけが「area」に指定できます！打ち間違いをチェックしてみてください！')\n",
    "          return\n",
    "        scale0[area_+danjo_], caption0 = return_scale(p, base, area_, min(years))\n",
    "        captions.append(area_+danjo_+\"：\"+caption0)\n",
    "\n",
    "# グラフの出力部分\n",
    "  for danjo_ in danjo:\n",
    "    for area_ in area:\n",
    "      for year in years:\n",
    "        ## データの選択\n",
    "        p = pop[area_][(pop[area_].year==year) & (pop[area_].sex==danjo_)]\n",
    "        ## グラフを表示\n",
    "        plt.plot(p[\"age\"], 100* p[\"value\"]/scale0[area_+danjo_],\n",
    "                 linewidth=lw, label=\"'\"+str(year)[2:]+area_[0]+danjo_)\n",
    "\n",
    "## グラフ全体の見栄え\n",
    "  plt.title(\"\\n\".join(captions), fontsize=23)\n",
    "  plt.xlim([-19,103])##敢えて，x軸方向に表示を広げ，legendがグラフの邪魔をしないように\n",
    "  plt.xticks(fontsize=17)#x軸メモリ\n",
    "  plt.xlabel(\"年齢\", fontsize=17)\n",
    "  plt.yticks(fontsize=17)#y軸メモリ\n",
    "  plt.ylabel(\"人数\", fontsize=17)\n",
    "  plt.legend(fontsize=17, handlelength=1, framealpha=0.3)#後2つは，線の長さと，透明度\n",
    "  plt.show()"
   ]
  },
  {
   "cell_type": "code",
   "execution_count": null,
   "metadata": {
    "id": "sUdQbuKEqv6a"
   },
   "outputs": [],
   "source": [
    "def return_scale(data0, base0, area0, year0):\n",
    "  if area0==\"全国\": tani0=\"千人\"\n",
    "  else: tani0=\"人\"\n",
    "  if base0==\"平均値\":#縮尺を「平均値」にしたとき\n",
    "    value0 = data0[\"value\"].mean(axis=0)\n",
    "    return value0, \"'\"+str(year0)[2:]+base0+str(value0)+tani0+\"=100\"\n",
    "  elif base0==\"中央値\":#縮尺を「中央値」にしたとき\n",
    "    value0 = data0[\"value\"].median(axis=0)\n",
    "    ##中央値の計算がどうやっているかをprint出力するためのプログラム\n",
    "    value49 = sorted(data0.value)[49]\n",
    "    value50 = sorted(data0.value)[50]\n",
    "    age49 = data0.loc[data0.value==value49, \"age\"]\n",
    "    age50 = data0.loc[data0.value==value50, \"age\"]\n",
    "    if list(age49)==list(age50):##49,50番目が同じだった場合（0,1,...,99番目のうち中央値は49,50番目の平均）\n",
    "      ages = \",\".join([str(k_) for k_ in age49])+\"歳の\" + str(value0)+tani0\n",
    "    else:\n",
    "      ages = \"(\"+\",\".join([str(k_) for k_ in age49])+\"歳の\" + str(value49)+tani0+\"+\"\n",
    "      ages += \",\".join([str(k_) for k_ in age50])+\"歳の\" + str(value50) +tani0+\")/2=\"+str(value0)+tani0\n",
    "    print(ages)\n",
    "    ##中央値の計算出力終わり\n",
    "    return value0, \"'\"+str(year0)[2:]+base0+str(value0)+tani0+\"=100\"\n",
    "  elif base0==\"最大値\":#縮尺を「最大値」にしたとき\n",
    "    value0 = data0[\"value\"].max(axis=0)\n",
    "    ###最大値がどこかを取得\n",
    "    agemax = data0.loc[data0.value==value0, \"age\"]\n",
    "    ages = \",\".join([str(k_) for k_ in agemax])+\"歳\"\n",
    "    return value0, \"'\"+str(year0)[2:]+base0+ages+str(value0)+tani0+\"=100\"\n",
    "  elif base0==\"合計値\":#縮尺を「合計値」にしたとき\n",
    "    value0 = data0[\"value\"].sum(axis=0)\n",
    "    return value0, \"'\"+str(year0)[2:]+base0+str(value0)+tani0+\"=100\"\n",
    "  else:\n",
    "    print(\"グラフの縮尺の指示がおかしいよ！とりあえず「そのまま」で出します\")\n",
    "    return 100, \"（縮尺の指示ミス！→→「\"+base0+\"」を変えてください）\""
   ]
  },
  {
   "cell_type": "code",
   "execution_count": null,
   "metadata": {
    "id": "Q8Uskx5kHjpR"
   },
   "outputs": [],
   "source": [
    "danjo = [\"女\"]##男・女・男女計，が使える．例：[\"男\",\"女\"]\n",
    "area = [\"全国\",\"ある街\"]##全国・ある街，が使える．\n",
    "base = \"そのまま\"##縮尺を，そのまま・平均値・中央値・最大値・合計値，から1つだけ選ぶ．\n",
    "years = [2021,2022]##出力年（2012-2022）をここで選ぶ\n",
    "view_graph(danjo, area, base, years)"
   ]
  },
  {
   "cell_type": "code",
   "execution_count": null,
   "metadata": {
    "id": "f4arBmrHN1Wd"
   },
   "outputs": [],
   "source": [
    "##複数のグラフを出す＆一度表示したグラフの設定を残す，がしたい場合は，セルを自由に増やしてください．\n",
    "\n",
    "\n"
   ]
  },
  {
   "cell_type": "code",
   "execution_count": null,
   "metadata": {
    "id": "9oKvvpGDXtmX"
   },
   "outputs": [],
   "source": []
  }
 ],
 "metadata": {
  "colab": {
   "provenance": [
    {
     "file_id": "16vlHDZevaw16joIwjhPiAvJ4QjCGdyV2",
     "timestamp": 1688451860576
    }
   ]
  },
  "kernelspec": {
   "display_name": "Python 3 (ipykernel)",
   "language": "python",
   "name": "python3"
  },
  "language_info": {
   "codemirror_mode": {
    "name": "ipython",
    "version": 3
   },
   "file_extension": ".py",
   "mimetype": "text/x-python",
   "name": "python",
   "nbconvert_exporter": "python",
   "pygments_lexer": "ipython3",
   "version": "3.9.16"
  }
 },
 "nbformat": 4,
 "nbformat_minor": 1
}
