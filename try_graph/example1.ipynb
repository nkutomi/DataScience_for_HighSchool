{
 "cells": [
  {
   "cell_type": "markdown",
   "metadata": {
    "id": "yjUsWpqoYjR9"
   },
   "source": [
    "# 例：1行につき1点+ラベル、散布図のみ\n",
    "\n",
    "## はじめに\n",
    "+ 「ランタイム」＞「すべてのセルを実行」により、ダミーデータで表示されるようになっています。\n",
    "  + <a href=\"https://colab.research.google.com/drive/1OnCfamYB6R1JV_f74jt6mS8Thr8aVs-3\">こちらからGoogleColab上で試すことが可能</a>です（実行にはGoogleアカウントが必要）。\n",
    "+ このファイルは、GoogleColabでの動作を想定し、インデント=半角空白2文字にしてます。\n",
    "+ 授業時の配布前に、このMarkdownセルは削除してください。\n",
    "\n",
    "# このファイルを配布前にすべきこと\n",
    "+ 参加者がGoogleアカウントを使えるようにしておく（組織のGoogleアカウントの場合、GoogleColabが利用可能かどうかご確認ください）\n",
    "+ データのあるGoogleスプレッドシートを用意し、アクセス権限を参加者のGoogleドライブから開けるようにする（閲覧のみにする）\n",
    "+ データのあるGoogleスプレッドシートのURL、シート名と、このプログラムの初期状態の出力を設定\n",
    "    + 現在、化学のイオン結合に関するデータで、式量-融点のグラフが初期状態になっています。\n",
    "    + データが、Googleドライブ上のxlsxやcsvになっている場合は、Googleスプレッドシート形式に変換するか、プログラムを変えてください。\n",
    "+ 「編集」＞「出力をすべて消去」によって出力を消し、アクセス権限を参加者のGoogleドライブから開けるようにする（閲覧のみにする）"
   ]
  },
  {
   "cell_type": "markdown",
   "metadata": {
    "id": "s9hrHpJhwyYe"
   },
   "source": [
    "# 使い方\n",
    "# 1. 画面左上の「ファイル」＞「ドライブにコピーを保存」を選んでください。\n",
    "## これで、自分の作業結果を自分のドライブで保存できます。保存場所は、マイドライブの「Colab Notebook」フォルダ内です。\n",
    "# 2. 上のメニューから「ランタイム」＞「全てのセルを実行」を選び、セルを上から全て実行する。途中で、Googleアカウントへの接続許可を求められるので、許可する。\n",
    "# 3. 最後のセルを実行（左上の再生ボタン）し、グラフを試行錯誤する。"
   ]
  },
  {
   "cell_type": "code",
   "execution_count": null,
   "metadata": {
    "id": "yIatHzNWawqU"
   },
   "outputs": [],
   "source": [
    "pip install japanize_matplotlib"
   ]
  },
  {
   "cell_type": "code",
   "execution_count": null,
   "metadata": {
    "id": "0iVaNxmXw9D3"
   },
   "outputs": [],
   "source": [
    "## 実行するとGoogleアカウントへの接続許可を求められます\n",
    "%matplotlib inline\n",
    "import matplotlib.pyplot as plt\n",
    "import japanize_matplotlib\n",
    "import pandas as pd\n",
    "\n",
    "from google.colab import auth\n",
    "auth.authenticate_user()\n",
    "import gspread\n",
    "from google.auth import default\n",
    "creds, _ = default()\n",
    "gc = gspread.authorize(creds)\n",
    "\n",
    "##グラフの見た目を設定\n",
    "散布図 = {\"s\":15, \"alpha\":0.5}"
   ]
  },
  {
   "cell_type": "code",
   "execution_count": null,
   "metadata": {
    "id": "S1pyOeXDxUJf"
   },
   "outputs": [],
   "source": [
    "## データのあるURLを指定します。\n",
    "url = \"https://docs.google.com/spreadsheets/d/1I1c1LwW4CO9bo9CE8bHeACW8UEFUP0MAXcWw95mVnso\"\n",
    "\n",
    "alldata = {}\n",
    "xlsx = gc.open_by_url(url)\n",
    "for f in xlsx.worksheets():\n",
    "  alldata[f.title] = pd.DataFrame(xlsx.worksheet(f.title).get_all_records())\n",
    "data = alldata[\"シート3\"]####シート名を入れる"
   ]
  },
  {
   "cell_type": "markdown",
   "metadata": {
    "id": "NQ3NAZHaddyQ"
   },
   "source": [
    "# ここは、何度も実行！"
   ]
  },
  {
   "cell_type": "code",
   "execution_count": null,
   "metadata": {
    "id": "vFJmoT-aqvdz"
   },
   "outputs": [],
   "source": [
    "##必要になったら変えるオプション\n",
    "plt.rcParams[\"font.size\"] = 16##ここで全体のフォントを変えられる\n",
    "fig=plt.figure(figsize=(6,5))##ここの数値でグラフの大きさを変えられる\n",
    "\n",
    "##変える場所・シート名とタイトル\n",
    "plt.title(\"タイトル\")##ここでタイトルを変えられる\n",
    "縦データ=\"式量\"##ここでどの列を出すか。指定できるのは、＊＊、＊＊\n",
    "横データ=\"融点\"###どの列を横にするか。指定できるのは、＊＊、＊＊\n",
    "\n",
    "\n",
    "#以下、変更不要\n",
    "plt.xlabel(横データ)\n",
    "plt.ylabel(縦データ)\n",
    "for i in data.index:\n",
    "  plt.scatter(data.at[i,横データ],\n",
    "              data.at[i,縦データ],\n",
    "              label=data.at[i,\"組成式\"], **散布図)\n",
    "\n",
    "plt.legend(bbox_to_anchor=(1.02, 1), loc='upper left')\n",
    "plt.show()"
   ]
  },
  {
   "cell_type": "code",
   "execution_count": null,
   "metadata": {
    "id": "7EyFbTsJmbJ3"
   },
   "outputs": [],
   "source": [
    "##複数のグラフを出す＆一度表示したグラフの設定を残す，がしたい場合は，セルを自由に増やしてください．\n"
   ]
  }
 ],
 "metadata": {
  "colab": {
   "provenance": [
    {
     "file_id": "178dSK6GxMlHHfTBz4PRUhce901TzIjx0",
     "timestamp": 1688451896576
    },
    {
     "file_id": "16f_Bo96rwOd2xiajq-iqgJWkONsHweTD",
     "timestamp": 1676349388167
    },
    {
     "file_id": "1KAnCkQgXzzyezOH5-9bhViiEJ9zGs-jb",
     "timestamp": 1676336105355
    },
    {
     "file_id": "1Px6Yj50aWdVLNSKnpWSLPIrAQsraK_03",
     "timestamp": 1674887739216
    }
   ]
  },
  "kernelspec": {
   "display_name": "Python 3 (ipykernel)",
   "language": "python",
   "name": "python3"
  },
  "language_info": {
   "codemirror_mode": {
    "name": "ipython",
    "version": 3
   },
   "file_extension": ".py",
   "mimetype": "text/x-python",
   "name": "python",
   "nbconvert_exporter": "python",
   "pygments_lexer": "ipython3",
   "version": "3.9.16"
  }
 },
 "nbformat": 4,
 "nbformat_minor": 1
}
